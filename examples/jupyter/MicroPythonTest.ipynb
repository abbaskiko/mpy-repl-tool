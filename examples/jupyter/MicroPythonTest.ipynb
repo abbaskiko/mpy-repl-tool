{
 "cells": [
  {
   "cell_type": "markdown",
   "metadata": {},
   "source": [
    "\n",
    "# MicroPython / mpy-repl-tool Kernel for IPython/Jupyter"
   ]
  },
  {
   "cell_type": "markdown",
   "metadata": {},
   "source": [
    "To use this notebook, the MicroPython Kernel from mpy-repl-tools must be installed and configured. To do so, use `pip3 install mpy-repl-tool` and then execute `python3 -m there.jupyter-setup` which will install the kernel configuration file into Jupyter. It is only compatible with Python 3 and the commands above must be executed in the same environment where Jupyter notebook runs.\n",
    "\n",
    "The kernel needs to know how to talk to a board. Use `%connect [port [baudrate]]`. The default is to connect to the first USB-serial adapter it finds. If that is not a micropython board, you need to change this line."
   ]
  },
  {
   "cell_type": "code",
   "execution_count": 1,
   "metadata": {},
   "outputs": [
    {
     "name": "stdout",
     "output_type": "stream",
     "text": [
      "mpy-repl-tool: connected to Serial<id=0x7f086d0eb048, open=True>(port='/dev/ttyUSB0', baudrate=115200, bytesize=8, parity='N', stopbits=1, timeout=1, xonxoff=False, rtscts=False, dsrdtr=False)"
     ]
    }
   ],
   "source": [
    "%connect"
   ]
  },
  {
   "cell_type": "markdown",
   "metadata": {},
   "source": [
    "After a connection is made, it is ready to execute code"
   ]
  },
  {
   "cell_type": "code",
   "execution_count": 2,
   "metadata": {},
   "outputs": [
    {
     "name": "stdout",
     "output_type": "stream",
     "text": [
      "Hello, World\r\n",
      "Greetings from esp8266\r\n"
     ]
    }
   ],
   "source": [
    "import sys\n",
    "print(\"Hello, World\\nGreetings from {}\".format(sys.platform))"
   ]
  },
  {
   "cell_type": "code",
   "execution_count": 3,
   "metadata": {},
   "outputs": [
    {
     "name": "stdout",
     "output_type": "stream",
     "text": []
    }
   ],
   "source": [
    "import machine\n",
    "import time"
   ]
  },
  {
   "cell_type": "code",
   "execution_count": 4,
   "metadata": {},
   "outputs": [
    {
     "name": "stdout",
     "output_type": "stream",
     "text": []
    }
   ],
   "source": [
    "led = machine.Pin(2, machine.Pin.OUT)  # LED near antenna on ESP-12 boards"
   ]
  },
  {
   "cell_type": "code",
   "execution_count": 5,
   "metadata": {},
   "outputs": [
    {
     "name": "stdout",
     "output_type": "stream",
     "text": []
    }
   ],
   "source": [
    "led.low()"
   ]
  },
  {
   "cell_type": "code",
   "execution_count": 6,
   "metadata": {},
   "outputs": [
    {
     "name": "stdout",
     "output_type": "stream",
     "text": []
    }
   ],
   "source": [
    "led.high()"
   ]
  },
  {
   "cell_type": "markdown",
   "metadata": {},
   "source": [
    "## Magic commands\n",
    "The commands with a % prefix, which must be written as\n",
    "first statement in a separate input cell, are interpreted\n",
    "by the Proxy code and influence how it interacts with the\n",
    "MicroPython board.\n",
    "\n",
    "Currently available commands are:\n",
    "- `%connect [porrt [baudrate]]`\n",
    "- `%timeout [seconds]`\n",
    "- `%reset`\n",
    "- `%info`"
   ]
  },
  {
   "cell_type": "code",
   "execution_count": 7,
   "metadata": {},
   "outputs": [
    {
     "name": "stdout",
     "output_type": "stream",
     "text": [
      "mpy-repl-tool: connected to Serial<id=0x7f086d0eb048, open=True>(port='/dev/ttyUSB0', baudrate=115200, bytesize=8, parity='N', stopbits=1, timeout=1, xonxoff=False, rtscts=False, dsrdtr=False)"
     ]
    }
   ],
   "source": [
    "%info"
   ]
  },
  {
   "cell_type": "code",
   "execution_count": 8,
   "metadata": {},
   "outputs": [
    {
     "name": "stdout",
     "output_type": "stream",
     "text": []
    }
   ],
   "source": [
    "# %reset"
   ]
  },
  {
   "cell_type": "code",
   "execution_count": 9,
   "metadata": {},
   "outputs": [
    {
     "name": "stdout",
     "output_type": "stream",
     "text": []
    }
   ],
   "source": [
    "# %listdir /"
   ]
  },
  {
   "cell_type": "code",
   "execution_count": 10,
   "metadata": {},
   "outputs": [
    {
     "name": "stdout",
     "output_type": "stream",
     "text": [
      "mpy-repl-tool: timeout is 30 seconds"
     ]
    }
   ],
   "source": [
    "%timeout"
   ]
  },
  {
   "cell_type": "markdown",
   "metadata": {},
   "source": [
    "## Tips & Tricks"
   ]
  },
  {
   "cell_type": "markdown",
   "metadata": {},
   "source": [
    "If you run the following, one of two things might happen:\n",
    "- it timeouts after a number of seconds\n",
    "- you get bored and choose to select \"kernel->interrupt\" from the menu"
   ]
  },
  {
   "cell_type": "code",
   "execution_count": 11,
   "metadata": {},
   "outputs": [
    {
     "name": "stderr",
     "output_type": "stream",
     "text": [
      "execution failed: : Traceback (most recent call last):\r\n",
      "  File \"<stdin>\", line 5, in <module>\r\n",
      "KeyboardInterrupt: \r\n"
     ]
    }
   ],
   "source": [
    "while(True):\n",
    "    led.high()\n",
    "    time.sleep(0.5)\n",
    "    led.low()\n",
    "    time.sleep(0.5)"
   ]
  },
  {
   "cell_type": "markdown",
   "metadata": {
    "collapsed": true
   },
   "source": [
    "This is an example where micropython reports an error:"
   ]
  },
  {
   "cell_type": "code",
   "execution_count": 12,
   "metadata": {},
   "outputs": [
    {
     "name": "stderr",
     "output_type": "stream",
     "text": [
      "execution failed: : Traceback (most recent call last):\r\n",
      "  File \"<stdin>\", line 1, in <module>\r\n",
      "AttributeError: 'Pin' object has no attribute 'on'\r\n"
     ]
    }
   ],
   "source": [
    "led.on()"
   ]
  },
  {
   "cell_type": "code",
   "execution_count": null,
   "metadata": {
    "collapsed": true
   },
   "outputs": [],
   "source": []
  }
 ],
 "metadata": {
  "kernelspec": {
   "display_name": "MicroPython",
   "language": "micropython",
   "name": "micropython-mpy-repl"
  },
  "language_info": {
   "file_extension": ".py",
   "mimetype": "text/x-python",
   "name": "python"
  }
 },
 "nbformat": 4,
 "nbformat_minor": 2
}
